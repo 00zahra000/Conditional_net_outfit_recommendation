{
  "cells": [
    {
      "cell_type": "markdown",
      "metadata": {},
      "source": [
        "To download all the images from the myntra csv:"
      ]
    },
    {
      "cell_type": "code",
      "execution_count": 2,
      "metadata": {
        "colab": {
          "base_uri": "https://localhost:8080/",
          "height": 90
        },
        "id": "0aXT1XuDgjXC",
        "outputId": "2144ff7f-9548-4642-d560-1e1938b460de"
      },
      "outputs": [
        {
          "data": {
            "text/plain": [
              "'https://assets.myntassets.com/dpr_2,q_60,w_210,c_limit,fl_progressive/assets/images/15353396/2021/10/13/0603e5ee-986e-4169-a054-ef22dc9a8be21634116653718-Nautica-Men-Shirts-6421634116653070-1.jpg'"
            ]
          },
          "execution_count": 2,
          "metadata": {},
          "output_type": "execute_result"
        }
      ],
      "source": [
        "import pandas as pd\n",
        "\n",
        "col_list = [\"image_url\"]\n",
        "data = pd.read_csv(\"D:\\Shop-The-Look-main\\myntra.csv\", usecols=col_list)\n",
        "\n",
        "# converting column data to list\n",
        "url = data['image_url'].tolist()\n",
        "\n",
        "# print(url)\n",
        "# len(url) # length is 10642.\n",
        "# url[0]"
      ]
    },
    {
      "cell_type": "code",
      "execution_count": null,
      "metadata": {
        "colab": {
          "base_uri": "https://localhost:8080/"
        },
        "id": "lC0C2K40ihrW",
        "outputId": "de499f3c-d2aa-46ac-dc6b-e5776a58a3bc"
      },
      "outputs": [
        {
          "name": "stdout",
          "output_type": "stream",
          "text": [
            "Collecting wget\n",
            "  Downloading wget-3.2.zip (10 kB)\n",
            "Building wheels for collected packages: wget\n",
            "  Building wheel for wget (setup.py): started\n",
            "  Building wheel for wget (setup.py): finished with status 'done'\n",
            "  Created wheel for wget: filename=wget-3.2-py3-none-any.whl size=9675 sha256=89089faf21bb0e2966f7891df0a0c6f3ea3126c85ea4b87dcdc43e2037a90047\n",
            "  Stored in directory: c:\\users\\crimsonx\\appdata\\local\\pip\\cache\\wheels\\04\\5f\\3e\\46cc37c5d698415694d83f607f833f83f0149e49b3af9d0f38\n",
            "Successfully built wget\n",
            "Installing collected packages: wget\n",
            "Successfully installed wget-3.2\n"
          ]
        },
        {
          "name": "stderr",
          "output_type": "stream",
          "text": [
            "WARNING: You are using pip version 21.2.4; however, version 22.0.4 is available.\n",
            "You should consider upgrading via the 'C:\\Users\\CrimsonX\\AppData\\Python\\Python39\\python.exe -m pip install --upgrade pip' command.\n"
          ]
        }
      ],
      "source": [
        "%pip install wget"
      ]
    },
    {
      "cell_type": "code",
      "execution_count": 4,
      "metadata": {
        "id": "yIiU1_vxlRvb"
      },
      "outputs": [
        {
          "ename": "HTTPError",
          "evalue": "HTTP Error 404: Not Found",
          "output_type": "error",
          "traceback": [
            "\u001b[1;31m---------------------------------------------------------------------------\u001b[0m",
            "\u001b[1;31mHTTPError\u001b[0m                                 Traceback (most recent call last)",
            "\u001b[1;32md:\\Shop-The-Look-main\\1-1.myntra_images.ipynb Cell 4'\u001b[0m in \u001b[0;36m<cell line: 2>\u001b[1;34m()\u001b[0m\n\u001b[0;32m      <a href='vscode-notebook-cell:/d%3A/Shop-The-Look-main/1-1.myntra_images.ipynb#ch0000002?line=0'>1</a>\u001b[0m \u001b[39mimport\u001b[39;00m \u001b[39mwget\u001b[39;00m\n\u001b[0;32m      <a href='vscode-notebook-cell:/d%3A/Shop-The-Look-main/1-1.myntra_images.ipynb#ch0000002?line=1'>2</a>\u001b[0m \u001b[39mfor\u001b[39;00m i \u001b[39min\u001b[39;00m \u001b[39mrange\u001b[39m(\u001b[39mlen\u001b[39m(url)):\n\u001b[1;32m----> <a href='vscode-notebook-cell:/d%3A/Shop-The-Look-main/1-1.myntra_images.ipynb#ch0000002?line=2'>3</a>\u001b[0m   wget\u001b[39m.\u001b[39;49mdownload(url[i],\u001b[39m'\u001b[39;49m\u001b[39mD:\u001b[39;49m\u001b[39m\\\u001b[39;49m\u001b[39mShop-The-Look-main\u001b[39;49m\u001b[39m\\\u001b[39;49m\u001b[39mdata\u001b[39;49m\u001b[39m'\u001b[39;49m)\n",
            "File \u001b[1;32m~\\AppData\\Python\\Python39\\lib\\site-packages\\wget.py:526\u001b[0m, in \u001b[0;36mdownload\u001b[1;34m(url, out, bar)\u001b[0m\n\u001b[0;32m    <a href='file:///c%3A/Users/CrimsonX/AppData/Python/Python39/lib/site-packages/wget.py?line=523'>524</a>\u001b[0m \u001b[39melse\u001b[39;00m:\n\u001b[0;32m    <a href='file:///c%3A/Users/CrimsonX/AppData/Python/Python39/lib/site-packages/wget.py?line=524'>525</a>\u001b[0m     binurl \u001b[39m=\u001b[39m url\n\u001b[1;32m--> <a href='file:///c%3A/Users/CrimsonX/AppData/Python/Python39/lib/site-packages/wget.py?line=525'>526</a>\u001b[0m (tmpfile, headers) \u001b[39m=\u001b[39m ulib\u001b[39m.\u001b[39;49murlretrieve(binurl, tmpfile, callback)\n\u001b[0;32m    <a href='file:///c%3A/Users/CrimsonX/AppData/Python/Python39/lib/site-packages/wget.py?line=526'>527</a>\u001b[0m filename \u001b[39m=\u001b[39m detect_filename(url, out, headers)\n\u001b[0;32m    <a href='file:///c%3A/Users/CrimsonX/AppData/Python/Python39/lib/site-packages/wget.py?line=527'>528</a>\u001b[0m \u001b[39mif\u001b[39;00m outdir:\n",
            "File \u001b[1;32m~\\AppData\\Python\\Python39\\lib\\urllib\\request.py:239\u001b[0m, in \u001b[0;36murlretrieve\u001b[1;34m(url, filename, reporthook, data)\u001b[0m\n\u001b[0;32m    <a href='file:///c%3A/Users/CrimsonX/AppData/Python/Python39/lib/urllib/request.py?line=221'>222</a>\u001b[0m \u001b[39m\"\"\"\u001b[39;00m\n\u001b[0;32m    <a href='file:///c%3A/Users/CrimsonX/AppData/Python/Python39/lib/urllib/request.py?line=222'>223</a>\u001b[0m \u001b[39mRetrieve a URL into a temporary location on disk.\u001b[39;00m\n\u001b[0;32m    <a href='file:///c%3A/Users/CrimsonX/AppData/Python/Python39/lib/urllib/request.py?line=223'>224</a>\u001b[0m \n\u001b[1;32m   (...)\u001b[0m\n\u001b[0;32m    <a href='file:///c%3A/Users/CrimsonX/AppData/Python/Python39/lib/urllib/request.py?line=234'>235</a>\u001b[0m \u001b[39mdata file as well as the resulting HTTPMessage object.\u001b[39;00m\n\u001b[0;32m    <a href='file:///c%3A/Users/CrimsonX/AppData/Python/Python39/lib/urllib/request.py?line=235'>236</a>\u001b[0m \u001b[39m\"\"\"\u001b[39;00m\n\u001b[0;32m    <a href='file:///c%3A/Users/CrimsonX/AppData/Python/Python39/lib/urllib/request.py?line=236'>237</a>\u001b[0m url_type, path \u001b[39m=\u001b[39m _splittype(url)\n\u001b[1;32m--> <a href='file:///c%3A/Users/CrimsonX/AppData/Python/Python39/lib/urllib/request.py?line=238'>239</a>\u001b[0m \u001b[39mwith\u001b[39;00m contextlib\u001b[39m.\u001b[39mclosing(urlopen(url, data)) \u001b[39mas\u001b[39;00m fp:\n\u001b[0;32m    <a href='file:///c%3A/Users/CrimsonX/AppData/Python/Python39/lib/urllib/request.py?line=239'>240</a>\u001b[0m     headers \u001b[39m=\u001b[39m fp\u001b[39m.\u001b[39minfo()\n\u001b[0;32m    <a href='file:///c%3A/Users/CrimsonX/AppData/Python/Python39/lib/urllib/request.py?line=241'>242</a>\u001b[0m     \u001b[39m# Just return the local path and the \"headers\" for file://\u001b[39;00m\n\u001b[0;32m    <a href='file:///c%3A/Users/CrimsonX/AppData/Python/Python39/lib/urllib/request.py?line=242'>243</a>\u001b[0m     \u001b[39m# URLs. No sense in performing a copy unless requested.\u001b[39;00m\n",
            "File \u001b[1;32m~\\AppData\\Python\\Python39\\lib\\urllib\\request.py:214\u001b[0m, in \u001b[0;36murlopen\u001b[1;34m(url, data, timeout, cafile, capath, cadefault, context)\u001b[0m\n\u001b[0;32m    <a href='file:///c%3A/Users/CrimsonX/AppData/Python/Python39/lib/urllib/request.py?line=211'>212</a>\u001b[0m \u001b[39melse\u001b[39;00m:\n\u001b[0;32m    <a href='file:///c%3A/Users/CrimsonX/AppData/Python/Python39/lib/urllib/request.py?line=212'>213</a>\u001b[0m     opener \u001b[39m=\u001b[39m _opener\n\u001b[1;32m--> <a href='file:///c%3A/Users/CrimsonX/AppData/Python/Python39/lib/urllib/request.py?line=213'>214</a>\u001b[0m \u001b[39mreturn\u001b[39;00m opener\u001b[39m.\u001b[39;49mopen(url, data, timeout)\n",
            "File \u001b[1;32m~\\AppData\\Python\\Python39\\lib\\urllib\\request.py:523\u001b[0m, in \u001b[0;36mOpenerDirector.open\u001b[1;34m(self, fullurl, data, timeout)\u001b[0m\n\u001b[0;32m    <a href='file:///c%3A/Users/CrimsonX/AppData/Python/Python39/lib/urllib/request.py?line=520'>521</a>\u001b[0m \u001b[39mfor\u001b[39;00m processor \u001b[39min\u001b[39;00m \u001b[39mself\u001b[39m\u001b[39m.\u001b[39mprocess_response\u001b[39m.\u001b[39mget(protocol, []):\n\u001b[0;32m    <a href='file:///c%3A/Users/CrimsonX/AppData/Python/Python39/lib/urllib/request.py?line=521'>522</a>\u001b[0m     meth \u001b[39m=\u001b[39m \u001b[39mgetattr\u001b[39m(processor, meth_name)\n\u001b[1;32m--> <a href='file:///c%3A/Users/CrimsonX/AppData/Python/Python39/lib/urllib/request.py?line=522'>523</a>\u001b[0m     response \u001b[39m=\u001b[39m meth(req, response)\n\u001b[0;32m    <a href='file:///c%3A/Users/CrimsonX/AppData/Python/Python39/lib/urllib/request.py?line=524'>525</a>\u001b[0m \u001b[39mreturn\u001b[39;00m response\n",
            "File \u001b[1;32m~\\AppData\\Python\\Python39\\lib\\urllib\\request.py:632\u001b[0m, in \u001b[0;36mHTTPErrorProcessor.http_response\u001b[1;34m(self, request, response)\u001b[0m\n\u001b[0;32m    <a href='file:///c%3A/Users/CrimsonX/AppData/Python/Python39/lib/urllib/request.py?line=628'>629</a>\u001b[0m \u001b[39m# According to RFC 2616, \"2xx\" code indicates that the client's\u001b[39;00m\n\u001b[0;32m    <a href='file:///c%3A/Users/CrimsonX/AppData/Python/Python39/lib/urllib/request.py?line=629'>630</a>\u001b[0m \u001b[39m# request was successfully received, understood, and accepted.\u001b[39;00m\n\u001b[0;32m    <a href='file:///c%3A/Users/CrimsonX/AppData/Python/Python39/lib/urllib/request.py?line=630'>631</a>\u001b[0m \u001b[39mif\u001b[39;00m \u001b[39mnot\u001b[39;00m (\u001b[39m200\u001b[39m \u001b[39m<\u001b[39m\u001b[39m=\u001b[39m code \u001b[39m<\u001b[39m \u001b[39m300\u001b[39m):\n\u001b[1;32m--> <a href='file:///c%3A/Users/CrimsonX/AppData/Python/Python39/lib/urllib/request.py?line=631'>632</a>\u001b[0m     response \u001b[39m=\u001b[39m \u001b[39mself\u001b[39;49m\u001b[39m.\u001b[39;49mparent\u001b[39m.\u001b[39;49merror(\n\u001b[0;32m    <a href='file:///c%3A/Users/CrimsonX/AppData/Python/Python39/lib/urllib/request.py?line=632'>633</a>\u001b[0m         \u001b[39m'\u001b[39;49m\u001b[39mhttp\u001b[39;49m\u001b[39m'\u001b[39;49m, request, response, code, msg, hdrs)\n\u001b[0;32m    <a href='file:///c%3A/Users/CrimsonX/AppData/Python/Python39/lib/urllib/request.py?line=634'>635</a>\u001b[0m \u001b[39mreturn\u001b[39;00m response\n",
            "File \u001b[1;32m~\\AppData\\Python\\Python39\\lib\\urllib\\request.py:561\u001b[0m, in \u001b[0;36mOpenerDirector.error\u001b[1;34m(self, proto, *args)\u001b[0m\n\u001b[0;32m    <a href='file:///c%3A/Users/CrimsonX/AppData/Python/Python39/lib/urllib/request.py?line=558'>559</a>\u001b[0m \u001b[39mif\u001b[39;00m http_err:\n\u001b[0;32m    <a href='file:///c%3A/Users/CrimsonX/AppData/Python/Python39/lib/urllib/request.py?line=559'>560</a>\u001b[0m     args \u001b[39m=\u001b[39m (\u001b[39mdict\u001b[39m, \u001b[39m'\u001b[39m\u001b[39mdefault\u001b[39m\u001b[39m'\u001b[39m, \u001b[39m'\u001b[39m\u001b[39mhttp_error_default\u001b[39m\u001b[39m'\u001b[39m) \u001b[39m+\u001b[39m orig_args\n\u001b[1;32m--> <a href='file:///c%3A/Users/CrimsonX/AppData/Python/Python39/lib/urllib/request.py?line=560'>561</a>\u001b[0m     \u001b[39mreturn\u001b[39;00m \u001b[39mself\u001b[39;49m\u001b[39m.\u001b[39;49m_call_chain(\u001b[39m*\u001b[39;49margs)\n",
            "File \u001b[1;32m~\\AppData\\Python\\Python39\\lib\\urllib\\request.py:494\u001b[0m, in \u001b[0;36mOpenerDirector._call_chain\u001b[1;34m(self, chain, kind, meth_name, *args)\u001b[0m\n\u001b[0;32m    <a href='file:///c%3A/Users/CrimsonX/AppData/Python/Python39/lib/urllib/request.py?line=491'>492</a>\u001b[0m \u001b[39mfor\u001b[39;00m handler \u001b[39min\u001b[39;00m handlers:\n\u001b[0;32m    <a href='file:///c%3A/Users/CrimsonX/AppData/Python/Python39/lib/urllib/request.py?line=492'>493</a>\u001b[0m     func \u001b[39m=\u001b[39m \u001b[39mgetattr\u001b[39m(handler, meth_name)\n\u001b[1;32m--> <a href='file:///c%3A/Users/CrimsonX/AppData/Python/Python39/lib/urllib/request.py?line=493'>494</a>\u001b[0m     result \u001b[39m=\u001b[39m func(\u001b[39m*\u001b[39;49margs)\n\u001b[0;32m    <a href='file:///c%3A/Users/CrimsonX/AppData/Python/Python39/lib/urllib/request.py?line=494'>495</a>\u001b[0m     \u001b[39mif\u001b[39;00m result \u001b[39mis\u001b[39;00m \u001b[39mnot\u001b[39;00m \u001b[39mNone\u001b[39;00m:\n\u001b[0;32m    <a href='file:///c%3A/Users/CrimsonX/AppData/Python/Python39/lib/urllib/request.py?line=495'>496</a>\u001b[0m         \u001b[39mreturn\u001b[39;00m result\n",
            "File \u001b[1;32m~\\AppData\\Python\\Python39\\lib\\urllib\\request.py:641\u001b[0m, in \u001b[0;36mHTTPDefaultErrorHandler.http_error_default\u001b[1;34m(self, req, fp, code, msg, hdrs)\u001b[0m\n\u001b[0;32m    <a href='file:///c%3A/Users/CrimsonX/AppData/Python/Python39/lib/urllib/request.py?line=639'>640</a>\u001b[0m \u001b[39mdef\u001b[39;00m \u001b[39mhttp_error_default\u001b[39m(\u001b[39mself\u001b[39m, req, fp, code, msg, hdrs):\n\u001b[1;32m--> <a href='file:///c%3A/Users/CrimsonX/AppData/Python/Python39/lib/urllib/request.py?line=640'>641</a>\u001b[0m     \u001b[39mraise\u001b[39;00m HTTPError(req\u001b[39m.\u001b[39mfull_url, code, msg, hdrs, fp)\n",
            "\u001b[1;31mHTTPError\u001b[0m: HTTP Error 404: Not Found"
          ]
        }
      ],
      "source": [
        "import wget\n",
        "for i in range(len(url)):\n",
        "  wget.download(url[i],'D:\\Shop-The-Look-main\\data')"
      ]
    }
  ],
  "metadata": {
    "colab": {
      "name": "myntra_images.ipynb",
      "provenance": []
    },
    "kernelspec": {
      "display_name": "Python 3",
      "name": "python3"
    },
    "language_info": {
      "codemirror_mode": {
        "name": "ipython",
        "version": 3
      },
      "file_extension": ".py",
      "mimetype": "text/x-python",
      "name": "python",
      "nbconvert_exporter": "python",
      "pygments_lexer": "ipython3",
      "version": "3.9.10"
    }
  },
  "nbformat": 4,
  "nbformat_minor": 0
}
